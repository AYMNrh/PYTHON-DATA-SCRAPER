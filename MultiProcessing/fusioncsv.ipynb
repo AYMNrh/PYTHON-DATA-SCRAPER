{
 "cells": [
  {
   "cell_type": "code",
   "execution_count": 3,
   "metadata": {},
   "outputs": [],
   "source": [
    "import glob\n",
    "import pandas as pd\n",
    "\n",
    "# Find all files named \"transactions_i.csv\"\n",
    "filenames = glob.glob(\"transactions_*.csv\")\n",
    "\n",
    "# Create an empty DataFrame to store the combined data\n",
    "combined_df = pd.DataFrame()\n",
    "headers = []\n",
    "# Loop through each file and read the data into a DataFrame\n",
    "for file in filenames:\n",
    "    df = pd.read_csv(file, header=0, skiprows=1)\n",
    "    if headers is None:\n",
    "        headers = pd.read_csv(file, nrows=0).columns\n",
    "    combined_df = pd.concat([combined_df, df], ignore_index=True)\n",
    "\n",
    "#setting the headers of the final dataframe\n",
    "combined_df.columns = headers\n",
    "\n",
    "# Write the combined DataFrame to a new CSV file\n",
    "combined_df.to_csv(\"combined_transactions.csv\", index=False)\n"
   ]
  },
  {
   "cell_type": "code",
   "execution_count": null,
   "metadata": {},
   "outputs": [],
   "source": []
  },
  {
   "cell_type": "code",
   "execution_count": null,
   "metadata": {},
   "outputs": [],
   "source": []
  }
 ],
 "metadata": {
  "kernelspec": {
   "display_name": "Python 3",
   "language": "python",
   "name": "python3"
  },
  "language_info": {
   "codemirror_mode": {
    "name": "ipython",
    "version": 3
   },
   "file_extension": ".py",
   "mimetype": "text/x-python",
   "name": "python",
   "nbconvert_exporter": "python",
   "pygments_lexer": "ipython3",
   "version": "3.11.1"
  },
  "orig_nbformat": 4,
  "vscode": {
   "interpreter": {
    "hash": "9b82bba91dfa0b32476058284f3c3da4e948f9193da329786141cd69a71bddd6"
   }
  }
 },
 "nbformat": 4,
 "nbformat_minor": 2
}
