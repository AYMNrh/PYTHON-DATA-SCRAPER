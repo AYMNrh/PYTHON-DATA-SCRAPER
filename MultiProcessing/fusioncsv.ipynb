{
 "cells": [
  {
   "cell_type": "code",
   "execution_count": 10,
   "metadata": {},
   "outputs": [],
   "source": [
    "import glob\n",
    "import pandas as pd\n",
    "\n",
    "# Find all files named \"transactions_i.csv\" in transactions directory\n",
    "filenames = glob.glob(\"transactions/transactions_*.csv\")\n",
    "\n",
    "\n",
    "# Create an empty DataFrame to store the combined data\n",
    "combined_df = pd.DataFrame()\n",
    "\n",
    "# Loop through each file and read the data into a DataFrame\n",
    "for file in filenames:\n",
    "    df = pd.read_csv(file, header=0, skiprows=1)\n",
    "    if headers is None:\n",
    "        headers = pd.read_csv(file, nrows=0).columns\n",
    "    combined_df = pd.concat([combined_df, df], ignore_index=True)\n",
    "\n",
    "#setting the headers of the final dataframe to the headers list created above\n",
    "# combined_df.columns = headers\n",
    "\n",
    "# Write the combined DataFrame to a new CSV file\n",
    "combined_df.to_csv(\"combined_transactions.csv\", index=False)\n"
   ]
  },
  {
   "cell_type": "code",
   "execution_count": 12,
   "metadata": {},
   "outputs": [],
   "source": [
    "import pandas as pd\n",
    "import os\n",
    "\n",
    "# set the directory path\n",
    "dir_path = \"transactions/\"\n",
    "\n",
    "# get a list of all files in the directory\n",
    "all_files = os.listdir(dir_path)\n",
    "\n",
    "# filter the list to include only files starting with \"transaction\"\n",
    "transaction_files = [f for f in all_files if f.startswith(\"transaction\")]\n",
    "\n",
    "# load the data from the first file into a Pandas dataframe and save its headers\n",
    "df1 = pd.read_csv(os.path.join(dir_path, transaction_files[0]))\n",
    "headers = df1.columns\n",
    "\n",
    "# load the data from the other files and concatenate them into a single dataframe\n",
    "df_list = [pd.read_csv(os.path.join(dir_path, f)) for f in transaction_files[1:]]\n",
    "df_combined = pd.concat(df_list)\n",
    "\n",
    "# reset the column headers of the concatenated dataframe to match the headers of the first dataframe\n",
    "df_combined.columns = headers\n",
    "\n",
    "# save the concatenated dataframe as a new CSV file called \"combined.csv\"\n",
    "df_combined.to_csv(os.path.join(dir_path, \"combined.csv\"), index=False)\n"
   ]
  },
  {
   "cell_type": "code",
   "execution_count": 15,
   "metadata": {},
   "outputs": [],
   "source": [
    "import pandas as pd\n",
    "import glob\n",
    "\n",
    "# set the directory path\n",
    "dir_path = \"transactions/\"\n",
    "\n",
    "# get a list of all transaction files in the directory\n",
    "filenames = glob.glob(os.path.join(dir_path, \"transactions_*.csv\"))\n",
    "\n",
    "# load the data from the first file into a Pandas dataframe and save its headers\n",
    "df1 = pd.read_csv(filenames[0])\n",
    "headers = df1.columns\n",
    "\n",
    "# load the data from the other files and concatenate them into a single dataframe\n",
    "df_list = [pd.read_csv(f) for f in filenames[0:]]\n",
    "df_combined = pd.concat(df_list)\n",
    "\n",
    "# reset the column headers of the concatenated dataframe to match the headers of the first dataframe\n",
    "df_combined.columns = headers\n",
    "\n",
    "# save the concatenated dataframe as a new CSV file called \"combined.csv\"\n",
    "df_combined.to_csv(os.path.join(dir_path, \"combined.csv\"), index=False)\n"
   ]
  }
 ],
 "metadata": {
  "kernelspec": {
   "display_name": "Python 3",
   "language": "python",
   "name": "python3"
  },
  "language_info": {
   "codemirror_mode": {
    "name": "ipython",
    "version": 3
   },
   "file_extension": ".py",
   "mimetype": "text/x-python",
   "name": "python",
   "nbconvert_exporter": "python",
   "pygments_lexer": "ipython3",
   "version": "3.10.10"
  },
  "orig_nbformat": 4,
  "vscode": {
   "interpreter": {
    "hash": "fbce1745e8b4a8130c10f0a2680b2623aa1937f6f74daff15e9c3ceecef110d7"
   }
  }
 },
 "nbformat": 4,
 "nbformat_minor": 2
}
