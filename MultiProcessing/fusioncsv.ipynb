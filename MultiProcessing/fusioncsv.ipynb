{
 "cells": [
  {
   "cell_type": "code",
   "execution_count": null,
   "metadata": {},
   "outputs": [],
   "source": [
    "import glob\n",
    "import pandas as pd\n",
    "\n",
    "# Find all files named \"transactions_i.csv\"\n",
    "filenames = glob.glob(\"transactions_*.csv\")\n",
    "\n",
    "# Create an empty DataFrame to store the combined data\n",
    "combined_df = pd.DataFrame()\n",
    "headers = None\n",
    "# Loop through each file and read the data into a DataFrame\n",
    "for file in filenames:\n",
    "    df = pd.read_csv(file, header=0, skiprows=1)\n",
    "    if headers is None:\n",
    "        headers = pd.read_csv(file, nrows=0).columns\n",
    "    combined_df = pd.concat([combined_df, df], ignore_index=True)\n",
    "\n",
    "#setting the headers of the final dataframe\n",
    "combined_df.columns = headers\n",
    "\n",
    "# Write the combined DataFrame to a new CSV file\n",
    "combined_df.to_csv(\"combined_transactions.csv\", index=False)\n"
   ]
  }
 ],
 "metadata": {
  "kernelspec": {
   "display_name": "Python 3",
   "language": "python",
   "name": "python3"
  },
  "language_info": {
   "name": "python",
   "version": "3.10.9 (tags/v3.10.9:1dd9be6, Dec  6 2022, 20:01:21) [MSC v.1934 64 bit (AMD64)]"
  },
  "orig_nbformat": 4,
  "vscode": {
   "interpreter": {
    "hash": "fbce1745e8b4a8130c10f0a2680b2623aa1937f6f74daff15e9c3ceecef110d7"
   }
  }
 },
 "nbformat": 4,
 "nbformat_minor": 2
}
