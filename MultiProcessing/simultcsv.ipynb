{
 "cells": [
  {
   "cell_type": "code",
   "execution_count": 2,
   "metadata": {},
   "outputs": [
    {
     "ename": "KeyboardInterrupt",
     "evalue": "",
     "output_type": "error",
     "traceback": [
      "\u001b[1;31m---------------------------------------------------------------------------\u001b[0m",
      "\u001b[1;31mKeyboardInterrupt\u001b[0m                         Traceback (most recent call last)",
      "Cell \u001b[1;32mIn[2], line 12\u001b[0m\n\u001b[0;32m      9\u001b[0m processes \u001b[39m=\u001b[39m [subprocess\u001b[39m.\u001b[39mPopen([\u001b[39m\"\u001b[39m\u001b[39mpython\u001b[39m\u001b[39m\"\u001b[39m, script]) \u001b[39mfor\u001b[39;00m script \u001b[39min\u001b[39;00m scripts]\n\u001b[0;32m     11\u001b[0m \u001b[39mfor\u001b[39;00m process \u001b[39min\u001b[39;00m processes:\n\u001b[1;32m---> 12\u001b[0m     process\u001b[39m.\u001b[39;49mwait()\n",
      "File \u001b[1;32mc:\\Users\\CYTech Student\\AppData\\Local\\Programs\\Python\\Python311\\Lib\\subprocess.py:1262\u001b[0m, in \u001b[0;36mPopen.wait\u001b[1;34m(self, timeout)\u001b[0m\n\u001b[0;32m   1260\u001b[0m     endtime \u001b[39m=\u001b[39m _time() \u001b[39m+\u001b[39m timeout\n\u001b[0;32m   1261\u001b[0m \u001b[39mtry\u001b[39;00m:\n\u001b[1;32m-> 1262\u001b[0m     \u001b[39mreturn\u001b[39;00m \u001b[39mself\u001b[39;49m\u001b[39m.\u001b[39;49m_wait(timeout\u001b[39m=\u001b[39;49mtimeout)\n\u001b[0;32m   1263\u001b[0m \u001b[39mexcept\u001b[39;00m \u001b[39mKeyboardInterrupt\u001b[39;00m:\n\u001b[0;32m   1264\u001b[0m     \u001b[39m# https://bugs.python.org/issue25942\u001b[39;00m\n\u001b[0;32m   1265\u001b[0m     \u001b[39m# The first keyboard interrupt waits briefly for the child to\u001b[39;00m\n\u001b[0;32m   1266\u001b[0m     \u001b[39m# exit under the common assumption that it also received the ^C\u001b[39;00m\n\u001b[0;32m   1267\u001b[0m     \u001b[39m# generated SIGINT and will exit rapidly.\u001b[39;00m\n\u001b[0;32m   1268\u001b[0m     \u001b[39mif\u001b[39;00m timeout \u001b[39mis\u001b[39;00m \u001b[39mnot\u001b[39;00m \u001b[39mNone\u001b[39;00m:\n",
      "File \u001b[1;32mc:\\Users\\CYTech Student\\AppData\\Local\\Programs\\Python\\Python311\\Lib\\subprocess.py:1543\u001b[0m, in \u001b[0;36mPopen._wait\u001b[1;34m(self, timeout)\u001b[0m\n\u001b[0;32m   1540\u001b[0m     timeout_millis \u001b[39m=\u001b[39m \u001b[39mint\u001b[39m(timeout \u001b[39m*\u001b[39m \u001b[39m1000\u001b[39m)\n\u001b[0;32m   1541\u001b[0m \u001b[39mif\u001b[39;00m \u001b[39mself\u001b[39m\u001b[39m.\u001b[39mreturncode \u001b[39mis\u001b[39;00m \u001b[39mNone\u001b[39;00m:\n\u001b[0;32m   1542\u001b[0m     \u001b[39m# API note: Returns immediately if timeout_millis == 0.\u001b[39;00m\n\u001b[1;32m-> 1543\u001b[0m     result \u001b[39m=\u001b[39m _winapi\u001b[39m.\u001b[39;49mWaitForSingleObject(\u001b[39mself\u001b[39;49m\u001b[39m.\u001b[39;49m_handle,\n\u001b[0;32m   1544\u001b[0m                                          timeout_millis)\n\u001b[0;32m   1545\u001b[0m     \u001b[39mif\u001b[39;00m result \u001b[39m==\u001b[39m _winapi\u001b[39m.\u001b[39mWAIT_TIMEOUT:\n\u001b[0;32m   1546\u001b[0m         \u001b[39mraise\u001b[39;00m TimeoutExpired(\u001b[39mself\u001b[39m\u001b[39m.\u001b[39margs, timeout)\n",
      "\u001b[1;31mKeyboardInterrupt\u001b[0m: "
     ]
    }
   ],
   "source": [
    "import subprocess\n",
    "\n",
    "#0-4230-8460-12690-16920-21150-25380-29610-33840-38070-42300-46530-50760-55342 add one to each page at the end\n",
    "\n",
    "# scripts = [\"script1.py\", \"script2.py\", \"script3.py\", \"script4.py\", \"script5.py\", \"script6.py\",\"script7.py\", \"script8.py\", \"script9.py\", \"script10.py\", \"script11.py\", \"script12.py\",\"script13.py\"]\n",
    "scripts = [\"script3.py\", \"script2.py\"]\n",
    "\n",
    "\n",
    "processes = [subprocess.Popen([\"python\", script]) for script in scripts]\n",
    "\n",
    "for process in processes:\n",
    "    process.wait()\n"
   ]
  }
 ],
 "metadata": {
  "kernelspec": {
   "display_name": "Python 3",
   "language": "python",
   "name": "python3"
  },
  "language_info": {
   "codemirror_mode": {
    "name": "ipython",
    "version": 3
   },
   "file_extension": ".py",
   "mimetype": "text/x-python",
   "name": "python",
   "nbconvert_exporter": "python",
   "pygments_lexer": "ipython3",
   "version": "3.11.1"
  },
  "orig_nbformat": 4,
  "vscode": {
   "interpreter": {
    "hash": "9b82bba91dfa0b32476058284f3c3da4e948f9193da329786141cd69a71bddd6"
   }
  }
 },
 "nbformat": 4,
 "nbformat_minor": 2
}
