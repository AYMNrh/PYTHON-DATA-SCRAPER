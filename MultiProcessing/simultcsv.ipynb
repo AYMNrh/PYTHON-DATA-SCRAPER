{
 "cells": [
  {
   "cell_type": "code",
   "execution_count": null,
   "metadata": {},
   "outputs": [],
   "source": [
    "import subprocess\n",
    "\n",
    "#0-4230-8460-12690-16920-21150-25380-29610-33840-38070-42300-46530-50760-55342 add one to each page at the end\n",
    "\n",
    "scripts = [\"script1.py\", \"script2.py\", \"script3.py\", \"script4.py\", \"script5.py\", \"script6.py\",\"script7.py\", \"script8.py\", \"script9.py\", \"script10.py\", \"script11.py\", \"script12.py\",\"script13.py\"]\n",
    "\n",
    "processes = [subprocess.Popen([\"python\", script]) for script in scripts]\n",
    "\n",
    "for process in processes:\n",
    "    process.wait()\n"
   ]
  }
 ],
 "metadata": {
  "kernelspec": {
   "display_name": "Python 3",
   "language": "python",
   "name": "python3"
  },
  "language_info": {
   "name": "python",
   "version": "3.10.9 (tags/v3.10.9:1dd9be6, Dec  6 2022, 20:01:21) [MSC v.1934 64 bit (AMD64)]"
  },
  "orig_nbformat": 4,
  "vscode": {
   "interpreter": {
    "hash": "fbce1745e8b4a8130c10f0a2680b2623aa1937f6f74daff15e9c3ceecef110d7"
   }
  }
 },
 "nbformat": 4,
 "nbformat_minor": 2
}
