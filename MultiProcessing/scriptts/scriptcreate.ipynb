{
 "cells": [
  {
   "cell_type": "code",
   "execution_count": 2,
   "metadata": {},
   "outputs": [
    {
     "name": "stdout",
     "output_type": "stream",
     "text": [
      "13 files created.\n"
     ]
    },
    {
     "ename": "",
     "evalue": "",
     "output_type": "error",
     "traceback": [
      "\u001b[1;31mThe Kernel crashed while executing code in the the current cell or a previous cell. Please review the code in the cell(s) to identify a possible cause of the failure. Click <a href='https://aka.ms/vscodeJupyterKernelCrash'>here</a> for more info. View Jupyter <a href='command:jupyter.viewOutput'>log</a> for further details."
     ]
    }
   ],
   "source": [
    "import os\n",
    "\n",
    "num_files = int(input(\"Enter the number of files to create: \"))\n",
    "\n",
    "for i in range(1, num_files+1):\n",
    "    filename = f\"script{i}.py\"\n",
    "    with open(filename, \"w\") as f:\n",
    "        f.write(f\"i = {i}\\n\\n\")\n",
    "\n",
    "print(f\"{num_files} files created.\")"
   ]
  }
 ],
 "metadata": {
  "kernelspec": {
   "display_name": "Python 3",
   "language": "python",
   "name": "python3"
  },
  "language_info": {
   "codemirror_mode": {
    "name": "ipython",
    "version": 3
   },
   "file_extension": ".py",
   "mimetype": "text/x-python",
   "name": "python",
   "nbconvert_exporter": "python",
   "pygments_lexer": "ipython3",
   "version": "3.10.10"
  },
  "orig_nbformat": 4,
  "vscode": {
   "interpreter": {
    "hash": "fbce1745e8b4a8130c10f0a2680b2623aa1937f6f74daff15e9c3ceecef110d7"
   }
  }
 },
 "nbformat": 4,
 "nbformat_minor": 2
}
