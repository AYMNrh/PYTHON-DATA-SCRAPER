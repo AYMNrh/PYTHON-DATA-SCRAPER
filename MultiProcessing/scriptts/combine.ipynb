{
 "cells": [
  {
   "cell_type": "code",
   "execution_count": null,
   "metadata": {},
   "outputs": [],
   "source": [
    "import pandas as pd\n",
    "import glob\n",
    "\n",
    "# set the directory path\n",
    "dir_path = \"transactions/\"\n",
    "\n",
    "# get a list of all transaction files in the directory\n",
    "filenames = glob.glob(os.path.join(dir_path, \"transactions_*.csv\"))\n",
    "\n",
    "# load the data from the first file into a Pandas dataframe and save its headers\n",
    "df1 = pd.read_csv(filenames[0])\n",
    "headers = df1.columns\n",
    "\n",
    "# load the data from the other files and concatenate them into a single dataframe\n",
    "df_list = [pd.read_csv(f) for f in filenames[0:]]\n",
    "df_combined = pd.concat(df_list)\n",
    "\n",
    "# reset the column headers of the concatenated dataframe to match the headers of the first dataframe\n",
    "df_combined.columns = headers\n",
    "\n",
    "# save the concatenated dataframe as a new CSV file called \"combined.csv\"\n",
    "df_combined.to_csv(os.path.join(dir_path, \"combined.csv\"), index=False)\n"
   ]
  }
 ],
 "metadata": {
  "kernelspec": {
   "display_name": "Python 3",
   "language": "python",
   "name": "python3"
  },
  "language_info": {
   "name": "python",
   "version": "3.10.10"
  },
  "orig_nbformat": 4,
  "vscode": {
   "interpreter": {
    "hash": "fbce1745e8b4a8130c10f0a2680b2623aa1937f6f74daff15e9c3ceecef110d7"
   }
  }
 },
 "nbformat": 4,
 "nbformat_minor": 2
}
